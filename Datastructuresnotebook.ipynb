{
  "nbformat": 4,
  "nbformat_minor": 0,
  "metadata": {
    "colab": {
      "provenance": [],
      "authorship_tag": "ABX9TyNqwNPfMpojAD8a4ELU71J0",
      "include_colab_link": true
    },
    "kernelspec": {
      "name": "python3",
      "display_name": "Python 3"
    },
    "language_info": {
      "name": "python"
    }
  },
  "cells": [
    {
      "cell_type": "markdown",
      "metadata": {
        "id": "view-in-github",
        "colab_type": "text"
      },
      "source": [
        "<a href=\"https://colab.research.google.com/github/valeriasanzx/Val-Portfolio/blob/main/Datastructuresnotebook.ipynb\" target=\"_parent\"><img src=\"https://colab.research.google.com/assets/colab-badge.svg\" alt=\"Open In Colab\"/></a>"
      ]
    },
    {
      "cell_type": "code",
      "execution_count": null,
      "metadata": {
        "id": "jI6YsbaYjayE"
      },
      "outputs": [],
      "source": [
        "# Variables\n",
        "age: int = 25\n",
        "name = \"Ada\"\n",
        "\n",
        "# Function argument and return types\n",
        "def add(a, b):\n",
        "  ''' Add two numbers '''\n",
        "  return a + b\n",
        "\n",
        "# Function that takes and returns a list of integers\n",
        "def process_numbers(numbers:list[int]) -> list[int]:\n",
        "  result = [num * 2 for num in numbers]\n",
        "  return result\n"
      ]
    },
    {
      "cell_type": "markdown",
      "source": [
        "For variables it is not required by python to specify the data type (ex. age = 25), but if you do, python knows how much memory space that variable is going to take up.\n"
      ],
      "metadata": {
        "id": "gp9mtmIPmWxR"
      }
    },
    {
      "cell_type": "code",
      "source": [
        "# Local variable (whoops)\n",
        "def f():\n",
        "  whoops: int = 6\n",
        "\n",
        "# Global variable (i)\n",
        "i: int = 5\n",
        "print(whoops + i)"
      ],
      "metadata": {
        "colab": {
          "base_uri": "https://localhost:8080/",
          "height": 211
        },
        "id": "llzIrPCmsidL",
        "outputId": "902aab1a-b0a2-4062-d123-40a18cb602e0"
      },
      "execution_count": null,
      "outputs": [
        {
          "output_type": "error",
          "ename": "NameError",
          "evalue": "ignored",
          "traceback": [
            "\u001b[0;31m---------------------------------------------------------------------------\u001b[0m",
            "\u001b[0;31mNameError\u001b[0m                                 Traceback (most recent call last)",
            "\u001b[0;32m<ipython-input-7-0494711c937e>\u001b[0m in \u001b[0;36m<cell line: 6>\u001b[0;34m()\u001b[0m\n\u001b[1;32m      4\u001b[0m \u001b[0;34m\u001b[0m\u001b[0m\n\u001b[1;32m      5\u001b[0m \u001b[0mi\u001b[0m\u001b[0;34m:\u001b[0m \u001b[0mint\u001b[0m \u001b[0;34m=\u001b[0m \u001b[0;36m5\u001b[0m\u001b[0;34m\u001b[0m\u001b[0;34m\u001b[0m\u001b[0m\n\u001b[0;32m----> 6\u001b[0;31m \u001b[0mprint\u001b[0m\u001b[0;34m(\u001b[0m\u001b[0mwhoops\u001b[0m \u001b[0;34m+\u001b[0m \u001b[0mi\u001b[0m\u001b[0;34m)\u001b[0m\u001b[0;34m\u001b[0m\u001b[0;34m\u001b[0m\u001b[0m\n\u001b[0m",
            "\u001b[0;31mNameError\u001b[0m: name 'whoops' is not defined"
          ]
        }
      ]
    },
    {
      "cell_type": "code",
      "source": [
        "help(add)"
      ],
      "metadata": {
        "colab": {
          "base_uri": "https://localhost:8080/"
        },
        "id": "VwY4Dy_woCA-",
        "outputId": "3187314d-3a18-4d6f-afd1-d9db15ed94de"
      },
      "execution_count": null,
      "outputs": [
        {
          "output_type": "stream",
          "name": "stdout",
          "text": [
            "Help on function add in module __main__:\n",
            "\n",
            "add(a, b)\n",
            "    Add two numbers\n",
            "\n"
          ]
        }
      ]
    },
    {
      "cell_type": "code",
      "source": [
        "type(name)"
      ],
      "metadata": {
        "colab": {
          "base_uri": "https://localhost:8080/"
        },
        "id": "apPTBrBGoYqd",
        "outputId": "71be04c5-e557-4572-e5e1-b0920885a561"
      },
      "execution_count": null,
      "outputs": [
        {
          "output_type": "execute_result",
          "data": {
            "text/plain": [
              "str"
            ]
          },
          "metadata": {},
          "execution_count": 4
        }
      ]
    },
    {
      "cell_type": "code",
      "source": [
        "# Sorting\n",
        "def coffee_sort(coffees):\n",
        "  #sort coffees by freshness\n",
        "  n = coffees.length\n",
        "  i = 1\n",
        "  while i < n:\n",
        "    while coffees[i - 1].fresh > coffees[i].fresh:\n",
        "      #swap places"
      ],
      "metadata": {
        "colab": {
          "base_uri": "https://localhost:8080/",
          "height": 141
        },
        "id": "AQ9xvJr7nxdy",
        "outputId": "dcb50823-610a-4b60-8773-161f266fc0b6"
      },
      "execution_count": null,
      "outputs": [
        {
          "output_type": "error",
          "ename": "SyntaxError",
          "evalue": "ignored",
          "traceback": [
            "\u001b[0;36m  File \u001b[0;32m\"<ipython-input-1-cfdbc775f21c>\"\u001b[0;36m, line \u001b[0;32m8\u001b[0m\n\u001b[0;31m    #swap places\u001b[0m\n\u001b[0m                 ^\u001b[0m\n\u001b[0;31mSyntaxError\u001b[0m\u001b[0;31m:\u001b[0m incomplete input\n"
          ]
        }
      ]
    },
    {
      "cell_type": "code",
      "source": [
        "class Solution:\n",
        "    def sortColors(self, nums):\n",
        "        \"\"\"\n",
        "        :type nums: List[int]\n",
        "        :rtype: None Do not return anything, modify nums in-place instead.\n",
        "        \"\"\"\n",
        "        n = len(nums)\n",
        "        i = 1\n",
        "        while i > n:\n",
        "            while nums[i - 1] > nums[i]:\n",
        "                i += 1\n",
        "\n",
        "solution = Solution()\n",
        "nums = [2,0,2,1,1,0]\n",
        "solution.sortColors(nums)\n",
        "print(nums)"
      ],
      "metadata": {
        "colab": {
          "base_uri": "https://localhost:8080/"
        },
        "id": "8cBCfW_92uHR",
        "outputId": "0d3c7ab8-a3bf-4800-9b7e-6610518e848f"
      },
      "execution_count": null,
      "outputs": [
        {
          "output_type": "stream",
          "name": "stdout",
          "text": [
            "[2, 0, 2, 1, 1, 0]\n"
          ]
        }
      ]
    },
    {
      "cell_type": "code",
      "source": [
        "# lists\n",
        "scores = [23, 45, 65, 98]"
      ],
      "metadata": {
        "id": "CMZ1F3W1s29U"
      },
      "execution_count": null,
      "outputs": []
    },
    {
      "cell_type": "code",
      "source": [
        "scores[3]"
      ],
      "metadata": {
        "colab": {
          "base_uri": "https://localhost:8080/"
        },
        "id": "JO4MRdXAtC2K",
        "outputId": "b1f254a7-d66b-46f5-dbd5-deda919045f7"
      },
      "execution_count": null,
      "outputs": [
        {
          "output_type": "execute_result",
          "data": {
            "text/plain": [
              "98"
            ]
          },
          "metadata": {},
          "execution_count": 3
        }
      ]
    },
    {
      "cell_type": "code",
      "source": [
        "scores + scores"
      ],
      "metadata": {
        "colab": {
          "base_uri": "https://localhost:8080/"
        },
        "id": "4PVZ-Ki1tq_O",
        "outputId": "bfa6240b-2133-4138-f0cc-ccc25bbda315"
      },
      "execution_count": null,
      "outputs": [
        {
          "output_type": "execute_result",
          "data": {
            "text/plain": [
              "[23, 45, 65, 98, 43, 43, 43, 23, 45, 65, 98, 43, 43, 43]"
            ]
          },
          "metadata": {},
          "execution_count": 12
        }
      ]
    },
    {
      "cell_type": "code",
      "source": [
        "# see if element is on a list\n",
        "45 in scores"
      ],
      "metadata": {
        "colab": {
          "base_uri": "https://localhost:8080/"
        },
        "id": "zPtk6inEt2Sn",
        "outputId": "93b35dbc-5884-4046-86d1-b9a27f38e5d8"
      },
      "execution_count": null,
      "outputs": [
        {
          "output_type": "execute_result",
          "data": {
            "text/plain": [
              "True"
            ]
          },
          "metadata": {},
          "execution_count": 5
        }
      ]
    },
    {
      "cell_type": "code",
      "source": [
        "scores[1:-1]"
      ],
      "metadata": {
        "colab": {
          "base_uri": "https://localhost:8080/"
        },
        "id": "OLGAPi_6t9kj",
        "outputId": "37d266ea-554d-447a-d80a-6569fb50500d"
      },
      "execution_count": null,
      "outputs": [
        {
          "output_type": "execute_result",
          "data": {
            "text/plain": [
              "[45, 65]"
            ]
          },
          "metadata": {},
          "execution_count": 8
        }
      ]
    },
    {
      "cell_type": "code",
      "source": [
        "# list methods\n",
        "scores.append(43)\n",
        "print(scores)"
      ],
      "metadata": {
        "colab": {
          "base_uri": "https://localhost:8080/"
        },
        "id": "uhdwaDuyunx4",
        "outputId": "18e6bb9a-04e1-4b5c-9fb4-78a0c7ed6feb"
      },
      "execution_count": null,
      "outputs": [
        {
          "output_type": "stream",
          "name": "stdout",
          "text": [
            "[23, 45, 65, 98, 43, 43, 43]\n"
          ]
        }
      ]
    },
    {
      "cell_type": "code",
      "source": [
        "# strings, lists, dictionaries, tuples methods\n"
      ],
      "metadata": {
        "id": "AuA1LBTbvzdR"
      },
      "execution_count": null,
      "outputs": []
    },
    {
      "cell_type": "code",
      "source": [
        "#nodes\n",
        "class TreeNode:\n",
        "  def __init__(self, val):\n",
        "    self.val = val\n",
        "    self.children = []\n",
        "class Tree:\n",
        "  def __init__(self):\n",
        "    root: TreeNode = None"
      ],
      "metadata": {
        "id": "4rWPCdFF8I4T"
      },
      "execution_count": 1,
      "outputs": []
    },
    {
      "cell_type": "code",
      "source": [
        " # binary node\n",
        "  class BinaryTreeNode:\n",
        "    def __init__(self, val):\n",
        "      self."
      ],
      "metadata": {
        "id": "BdALjpLV8gnW"
      },
      "execution_count": null,
      "outputs": []
    },
    {
      "cell_type": "code",
      "source": [
        "# balanced trees\n",
        "\n",
        "\n",
        "# unbalanced trees"
      ],
      "metadata": {
        "id": "xnyaf8wV9RFM"
      },
      "execution_count": null,
      "outputs": []
    },
    {
      "cell_type": "markdown",
      "source": [
        "Unbounded, binary (search), balanced/unbalanced, complete or full (binary), \"perfect\""
      ],
      "metadata": {
        "id": "Lm9gJeglABvW"
      }
    }
  ]
}